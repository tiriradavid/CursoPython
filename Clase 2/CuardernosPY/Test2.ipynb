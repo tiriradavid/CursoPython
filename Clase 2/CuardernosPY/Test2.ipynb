{
 "cells": [
  {
   "cell_type": "markdown",
   "id": "473fd490",
   "metadata": {},
   "source": [
    "# MANUAL DEL USO PRINT ()"
   ]
  },
  {
   "cell_type": "markdown",
   "id": "d0a99488",
   "metadata": {},
   "source": [
    "Para enviar mensajes a consolo se usa la función print()"
   ]
  },
  {
   "cell_type": "code",
   "execution_count": 7,
   "id": "3434ddd8",
   "metadata": {
    "scrolled": true
   },
   "outputs": [
    {
     "data": {
      "text/plain": [
       "25"
      ]
     },
     "execution_count": 7,
     "metadata": {},
     "output_type": "execute_result"
    }
   ],
   "source": [
    "5*5"
   ]
  },
  {
   "cell_type": "code",
   "execution_count": 6,
   "id": "d1b1ef7c",
   "metadata": {},
   "outputs": [
    {
     "data": {
      "text/plain": [
       "27"
      ]
     },
     "execution_count": 6,
     "metadata": {},
     "output_type": "execute_result"
    }
   ],
   "source": [
    "3**3"
   ]
  },
  {
   "cell_type": "code",
   "execution_count": null,
   "id": "262d6a3d",
   "metadata": {},
   "outputs": [],
   "source": []
  }
 ],
 "metadata": {
  "kernelspec": {
   "display_name": "Python 3 (ipykernel)",
   "language": "python",
   "name": "python3"
  },
  "language_info": {
   "codemirror_mode": {
    "name": "ipython",
    "version": 3
   },
   "file_extension": ".py",
   "mimetype": "text/x-python",
   "name": "python",
   "nbconvert_exporter": "python",
   "pygments_lexer": "ipython3",
   "version": "3.11.3"
  }
 },
 "nbformat": 4,
 "nbformat_minor": 5
}
